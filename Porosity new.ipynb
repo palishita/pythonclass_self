{
 "cells": [
  {
   "cell_type": "code",
   "execution_count": 1,
   "metadata": {},
   "outputs": [],
   "source": [
    "import math\n",
    "import numpy as np\n",
    "import matplotlib.pyplot as plt"
   ]
  },
  {
   "cell_type": "code",
   "execution_count": 2,
   "metadata": {},
   "outputs": [],
   "source": [
    "def generate_circle():\n",
    "    y=0.975\n",
    "    r=np.random.uniform(0.025,0.1)\n",
    "    x=np.random.uniform(0,1)\n",
    "    while ((x+r>1) | (x-r<0)):\n",
    "        x=np.random.uniform(0,1)\n",
    "        \n",
    "    return(x,y,r)"
   ]
  },
  {
   "cell_type": "code",
   "execution_count": 14,
   "metadata": {},
   "outputs": [],
   "source": [
    "def check_vicinity(x,y,r,xList,yList,zList):\n",
    "    \n",
    "    if((y-r)<=0):\n",
    "        return (x,y,r,[],[],[],0)\n",
    "    \n",
    "    else:\n",
    "        #if circle does not touch ground\n",
    "    # defining the box of influence\n",
    "        x_vi_max=x+r+0.1          #0.1 is the highest radius of disks \n",
    "        x_vi_min=x-r-0.1\n",
    "        y_vi_max=y+r+0.1\n",
    "        y_vi_min=y-r-0.1\n",
    "    \n",
    "        xNear=[]\n",
    "        yNear=[]\n",
    "        rNear=[]\n",
    "        \n",
    "    # find all centers within vicinity (box of influence)\n",
    "        for m,n,o in zip(xList,yList,rList):\n",
    "            if (m<=x_vi_max) & (m>=x_vi_min) & (n<=y_vi_max) & (n>=y_vi_min):\n",
    "                xNear.append(m)\n",
    "                yNear.append(n)\n",
    "                rNear.append(o)\n",
    "        \n",
    "        #checks to see if there is anyone in the box\n",
    "        if (len(rNear)==0):\n",
    "            check_vicinity(x,y-0.005,r,xList,yList,rList)\n",
    "            \n",
    "        return(x,y,r,xNear,yNear,rNear,1) "
   ]
  },
  {
   "cell_type": "code",
   "execution_count": 23,
   "metadata": {},
   "outputs": [
    {
     "ename": "IndentationError",
     "evalue": "unindent does not match any outer indentation level (<tokenize>, line 5)",
     "output_type": "error",
     "traceback": [
      "\u001b[0;36m  File \u001b[0;32m\"<tokenize>\"\u001b[0;36m, line \u001b[0;32m5\u001b[0m\n\u001b[0;31m    return(x,y,r,[],[],[],0) #returns k=0 when circle touches ground\u001b[0m\n\u001b[0m    ^\u001b[0m\n\u001b[0;31mIndentationError\u001b[0m\u001b[0;31m:\u001b[0m unindent does not match any outer indentation level\n"
     ]
    }
   ],
   "source": [
    "     # defining a box around the circle where it will check for probable touches\n",
    "def check_vicinity(x,y,r,xList,yList,zList):\n",
    "    \n",
    "    if ((y-r)<=0):  #checks if circle touches ground\n",
    "        return(x,y,r,[],[],[],0) #returns k=0 when circle touches ground\n",
    "    else:\n",
    "        \n",
    "    #if circle does not touch ground\n",
    "    # defining the box of influence\n",
    "        x_vi_max=x+r+0.1          #0.1 is the highest radius of disks \n",
    "        x_vi_min=x-r-0.1\n",
    "        y_vi_max=y+r+0.1\n",
    "        y_vi_min=y-r-0.1\n",
    "    \n",
    "        xNear=[]\n",
    "        yNear=[]\n",
    "        rNear=[]\n",
    "        \n",
    "    # find all centers within vicinity (box of influence)\n",
    "        for m,n,o in zip(xList,yList,rList):\n",
    "            if (m<=x_vi_max) & (m>=x_vi_min) & (n<=y_vi_max) & (n>=y_vi_min):\n",
    "                xNear.append(m)\n",
    "                yNear.append(n)\n",
    "                rNear.append(o)\n",
    "        \n",
    "        #checks to see if there is anyone in the box\n",
    "        if (len(rNear)==0):\n",
    "            check_vicinity(x,y-0.005,r,xList,yList,rList)\n",
    "            \n",
    "        return(x,y,r,xNear,yNear,rNear,1)  #returns nearby circle details"
   ]
  },
  {
   "cell_type": "code",
   "execution_count": 16,
   "metadata": {},
   "outputs": [],
   "source": [
    "#checks for touching circles\n",
    "def check_touch(x,y,r,XNear,YNear,RNear):\n",
    "    touching_xlist=[]\n",
    "    touching_ylist=[]\n",
    "    touching_rlist=[]\n",
    "    t=0\n",
    "    \n",
    "    for m,n,o in zip(XNear,YNear,RNear):\n",
    "        dist=np.sqrt((m-x)**2+(n-y)**2)\n",
    "        if(dist<=(o+r)):\n",
    "            t+=1\n",
    "            touching_xlist.append(m)\n",
    "            touching_ylist.append(n)\n",
    "            touching_rlist.append(r)\n",
    "    \n",
    "    return (x,y,r,t,touching_xlist,touching_ylist,touching_rlist)"
   ]
  },
  {
   "cell_type": "code",
   "execution_count": 17,
   "metadata": {},
   "outputs": [],
   "source": [
    "#checks where the touching circles are located, how many are there \n",
    "def touch_condition(x,y,r,touching_xlist,touching_ylist,touching_rlist):\n",
    "    #print(len(touching_xlist), x,y)\n",
    "    left_t=right_t=0\n",
    "    \n",
    "    for m,n,o in zip(touching_xlist,touching_ylist,touching_rlist):\n",
    "        if (m>x):\n",
    "            right_t+=1\n",
    "        else:\n",
    "            left_t+=1\n",
    "    \n",
    "    if (right_t>0 & left_t>0):\n",
    "        return('stay')\n",
    "           \n",
    "    elif (right_t>0):\n",
    "        return('right')\n",
    "    elif (left_t>0):\n",
    "        return('left')"
   ]
  },
  {
   "cell_type": "code",
   "execution_count": 20,
   "metadata": {},
   "outputs": [],
   "source": [
    "#if touching a circle, it moves perpendicular to the angle of contact\n",
    "def rolldown(x,y,r,touching_xlist,touching_ylist,touching_rlist,where):\n",
    "    \n",
    "    rolly_y = min(touching_ylist)\n",
    "    index = touching_ylist.index(rolly_y)\n",
    "    rolly_x=touching_xlist[index-1]\n",
    "    rolly_r=touching_rlist[index-1]\n",
    "    \n",
    "    contact_angle= math.atan((y-rolly_y)/(x-rolly_x))\n",
    "\n",
    "    angle=(math.atan((y-rolly_y)/(x-rolly_x)))+math.radians(90)\n",
    "    #print (angle)\n",
    "    new_y=y-(0.005*math.sin(angle))\n",
    "    if (where=='right'):\n",
    "        new_x=x-(0.005*math.cos(angle))\n",
    "    else:\n",
    "        new_x=x+(0.005*math.cos(angle))\n",
    "    \n",
    "    return(new_x,new_y,r)\n",
    "    "
   ]
  },
  {
   "cell_type": "code",
   "execution_count": 24,
   "metadata": {},
   "outputs": [
    {
     "data": {
      "image/png": "[encoded data removed]",
      "text/plain": [
       "<Figure size 432x288 with 1 Axes>"
      ]
     },
     "metadata": {
      "needs_background": "light"
     },
     "output_type": "display_data"
    }
   ],
   "source": [
    "\n",
    "xList=[]\n",
    "yList=[]\n",
    "rList=[]\n",
    "Area=0\n",
    "\n",
    "while (Area<=(0.30-np.pi*0.1**2)):\n",
    "    circle_can_move=True\n",
    "    x,y,r=generate_circle()\n",
    "    while (circle_can_move==True):\n",
    "        a,b,c,xl,yl,rl,k=check_vicinity(x,y,r,xList,yList,rList)\n",
    "        if (k==0):\n",
    "            xList.append(x)\n",
    "            yList.append(y)\n",
    "            rList.append(r)\n",
    "            Area+=np.pi*r**2\n",
    "            circle_can_move=False\n",
    "\n",
    "        else:\n",
    "            #i,j,k,xt,yt,rt,wheret=check_touch(a,b,c,xl,yl,rl)\n",
    "            x,y,r,touch,x_tList,y_tList,r_tList=check_touch(a,b,c,xl,yl,rl)\n",
    "            if (touch==0):\n",
    "                y=y-0.005\n",
    "                #check_vicinity (x,y,r,xList,yList,rList) # falling\n",
    "            else:\n",
    "                where = touch_condition(x,y,r,x_tList,y_tList,r_tList)\n",
    "                if (where=='stay'):\n",
    "                    xList.append(x)\n",
    "                    yList.append(y)\n",
    "                    rList.append(r)\n",
    "                    Area+=np.pi*r**2\n",
    "                    circle_can_move=False\n",
    "                else:\n",
    "                    x,y,r= rolldown(x,y,r,x_tList,y_tList,r_tList,where)\n",
    "\n",
    "#input('asdfasd')                   \n",
    "#print (Area)\n",
    "fig, ax = plt.subplots()\n",
    "#ax.axis('equal')\n",
    "ax.set_aspect(1)\n",
    "ax.set(xlim=(0, 1), ylim = (0, 1))\n",
    "for i in range(len(xList)):\n",
    "    circle1 = plt.Circle((xList[i], yList[i]), rList[i], color = 'r')\n",
    "    ax.add_artist(circle1)\n",
    "plt.show()"
   ]
  },
  {
   "cell_type": "code",
   "execution_count": null,
   "metadata": {},
   "outputs": [],
   "source": []
  },
  {
   "cell_type": "code",
   "execution_count": null,
   "metadata": {},
   "outputs": [],
   "source": []
  }
 ],
 "metadata": {
  "kernelspec": {
   "display_name": "Python 3",
   "language": "python",
   "name": "python3"
  },
  "language_info": {
   "codemirror_mode": {
    "name": "ipython",
    "version": 3
   },
   "file_extension": ".py",
   "mimetype": "text/x-python",
   "name": "python",
   "nbconvert_exporter": "python",
   "pygments_lexer": "ipython3",
   "version": "3.8.5"
  }
 },
 "nbformat": 4,
 "nbformat_minor": 4
}
