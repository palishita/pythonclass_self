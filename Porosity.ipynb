{
 "cells": [
  {
   "cell_type": "code",
   "execution_count": 3,
   "metadata": {},
   "outputs": [],
   "source": [
    "import math\n",
    "import numpy as np\n",
    "import matplotlib.pyplot as plt"
   ]
  },
  {
   "cell_type": "code",
   "execution_count": 4,
   "metadata": {},
   "outputs": [],
   "source": [
    "def generate_circle():\n",
    "    y=0.975\n",
    "    r=np.random.uniform(0.025,0.1)\n",
    "    x=np.random.uniform(0,1)\n",
    "    while ((x+r>1) | (x-r<0)):\n",
    "        x=np.random.uniform(0,1)\n",
    "        \n",
    "    return(x,y,r)"
   ]
  },
  {
   "cell_type": "code",
   "execution_count": 25,
   "metadata": {},
   "outputs": [],
   "source": [
    "def check_vicinity(x,y,r,xList,yList,zList):\n",
    "    \n",
    "    if ((y-r)<=0):  #checks if circle touches ground\n",
    "        #put_it_in(x,y,r,xList,yList,zList)\n",
    "        return (x,y,r,[],[],[],0) #returns k=0 when circle touches ground\n",
    "    else:\n",
    "        \n",
    "    #if circle does not touch ground\n",
    "    # defining the box of influence\n",
    "        x_vi_max=x+r+0.1          #0.1 is the highest radius of disks \n",
    "        x_vi_min=x-r-0.1\n",
    "        y_vi_max=y+r+0.1\n",
    "        y_vi_min=y-r-0.1\n",
    "    \n",
    "        xNear=[]\n",
    "        yNear=[]\n",
    "        rNear=[]\n",
    "        \n",
    "    # find all centers within vicinity (box of influence)\n",
    "        for m,n,o in zip(xList,yList,rList):\n",
    "            if (m<=x_vi_max) & (m>=x_vi_min) & (n<=y_vi_max) & (n>=y_vi_min):\n",
    "                xNear.append(m)\n",
    "                yNear.append(n)\n",
    "                rNear.append(o)\n",
    "        \n",
    "        #checks to see if there is anyone in the box\n",
    "        if (len(rNear)==0):\n",
    "            check_vicinity(x,y-0.005,r,xList,yList,rList)\n",
    "            \n",
    "        return(x,y,r,xNear,yNear,rNear,1) \n",
    "    \n",
    "    "
   ]
  },
  {
   "cell_type": "code",
   "execution_count": 6,
   "metadata": {},
   "outputs": [],
   "source": [
    "def check_touch(x,y,r,XNear,YNear,RNear):\n",
    "    touching_xlist=[]\n",
    "    touching_ylist=[]\n",
    "    touching_rlist=[]\n",
    "    t=0\n",
    "    \n",
    "    for m,n,o in zip(XNear,YNear,RNear):\n",
    "        dist=np.sqrt((m-x)**2+(n-y)**2)\n",
    "        if(dist<=(o+r)):\n",
    "            t+=1\n",
    "            touching_xlist.append(m)\n",
    "            touching_ylist.append(n)\n",
    "            touching_rlist.append(r)\n",
    "    \n",
    "    return (x,y,r,t,touching_xlist,touching_ylist,touching_rlist)\n",
    "   \n",
    "    \n",
    "    "
   ]
  },
  {
   "cell_type": "code",
   "execution_count": 7,
   "metadata": {},
   "outputs": [],
   "source": [
    "def touch_condition(x,y,r,touching_xlist,touching_ylist,touching_rlist):\n",
    "    #print(len(touching_xlist), x,y)\n",
    "    left_t=right_t=0\n",
    "    # checks where is it touching\n",
    "    for m,n,o in zip(touching_xlist,touching_ylist,touching_rlist):\n",
    "        if (m>x):\n",
    "            right_t+=1\n",
    "        else:\n",
    "            left_t+=1\n",
    "    \n",
    "    if (right_t>0 & left_t>0):\n",
    "        return('stay')   #if touching on both sides it stays, else rolls down\n",
    "           \n",
    "    elif (right_t>0):\n",
    "        return('right')\n",
    "    elif (left_t>0):\n",
    "        return('left')\n",
    "                "
   ]
  },
  {
   "cell_type": "code",
   "execution_count": 21,
   "metadata": {},
   "outputs": [],
   "source": [
    "def rolldown(x,y,r,touching_xlist,touching_ylist,touching_rlist,where):\n",
    "    \n",
    "    rolly_y = min(touching_ylist)\n",
    "    index = touching_ylist.index(rolly_y)\n",
    "    rolly_x=touching_xlist[index-1]\n",
    "    rolly_r=touching_rlist[index-1]\n",
    "    \n",
    "    contact_angle= math.atan((y-rolly_y)/(x-rolly_x))\n",
    "\n",
    "    angle=(math.atan((y-rolly_y)/(x-rolly_x)))+math.radians(90) # rolls down perpe\n",
    "    #print (angle)\n",
    "    new_y=y-(0.005*math.sin(angle))\n",
    "    if (where=='right'):\n",
    "        new_x=x-(0.005*math.cos(angle))\n",
    "    else:\n",
    "        new_x=x+(0.005*math.cos(angle))\n",
    "    \n",
    "    return(new_x,new_y,r)\n",
    "    \n",
    "\n",
    "#print()\n",
    "    \n",
    "    "
   ]
  },
  {
   "cell_type": "code",
   "execution_count": 27,
   "metadata": {},
   "outputs": [
    {
     "data": {
      "image/png": "[encoded data removed]",
      "text/plain": [
       "<Figure size 432x288 with 1 Axes>"
      ]
     },
     "metadata": {
      "needs_background": "light"
     },
     "output_type": "display_data"
    }
   ],
   "source": [
    "#main function_ish\n",
    "xList=[]\n",
    "yList=[]\n",
    "rList=[]\n",
    "Area=0\n",
    "\n",
    "while (Area<=(0.30-np.pi*0.1**2)):\n",
    "    circle_can_move=True\n",
    "    x,y,r=generate_circle()\n",
    "    while (circle_can_move==True):\n",
    "        a,b,c,xl,yl,rl,k=check_vicinity(x,y,r,xList,yList,rList)\n",
    "        if (k==0):\n",
    "            xList.append(x)\n",
    "            yList.append(y)\n",
    "            rList.append(r)\n",
    "            Area+=np.pi*r**2\n",
    "            circle_can_move=False\n",
    "\n",
    "        else:\n",
    "            #i,j,k,xt,yt,rt,wheret=check_touch(a,b,c,xl,yl,rl)\n",
    "            x,y,r,touch,x_tList,y_tList,r_tList=check_touch(a,b,c,xl,yl,rl)\n",
    "            if (touch==0):\n",
    "                y=y-0.005\n",
    "                #check_vicinity (x,y,r,xList,yList,rList) # falling\n",
    "            else:\n",
    "                where = touch_condition(x,y,r,x_tList,y_tList,r_tList)\n",
    "                if (where=='stay'):\n",
    "                    xList.append(x)\n",
    "                    yList.append(y)\n",
    "                    rList.append(r)\n",
    "                    Area+=np.pi*r**2\n",
    "                    circle_can_move=False\n",
    "                else:\n",
    "                    x,y,r= rolldown(x,y,r,x_tList,y_tList,r_tList,where)\n",
    "\n",
    "#input('asdfasd')                   \n",
    "#print (Area)\n",
    "fig, ax = plt.subplots()\n",
    "#ax.axis('equal')\n",
    "ax.set_aspect(1)\n",
    "ax.set(xlim=(0, 1), ylim = (0, 1))\n",
    "for i in range(len(xList)):\n",
    "    circle1 = plt.Circle((xList[i], yList[i]), rList[i], color = 'r',linewidth=3)\n",
    "    ax.add_artist(circle1)\n",
    "plt.show()\n",
    " \n",
    " \n"
   ]
  },
  {
   "cell_type": "markdown",
   "metadata": {},
   "source": [
    "# *********** Till here***********\n",
    "## scrap below....don't look"
   ]
  },
  {
   "cell_type": "code",
   "execution_count": 14,
   "metadata": {},
   "outputs": [
    {
     "ename": "AttributeError",
     "evalue": "module 'matplotlib.pyplot' has no attribute 'circle'",
     "output_type": "error",
     "traceback": [
      "\u001b[0;31m---------------------------------------------------------------------------\u001b[0m",
      "\u001b[0;31mAttributeError\u001b[0m                            Traceback (most recent call last)",
      "\u001b[0;32m<ipython-input-14-45ec4e53ea7f>\u001b[0m in \u001b[0;36m<module>\u001b[0;34m\u001b[0m\n\u001b[0;32m----> 1\u001b[0;31m \u001b[0mhelp\u001b[0m \u001b[0;34m(\u001b[0m\u001b[0mplt\u001b[0m\u001b[0;34m.\u001b[0m\u001b[0mcircle\u001b[0m\u001b[0;34m)\u001b[0m\u001b[0;34m\u001b[0m\u001b[0;34m\u001b[0m\u001b[0m\n\u001b[0m",
      "\u001b[0;31mAttributeError\u001b[0m: module 'matplotlib.pyplot' has no attribute 'circle'"
     ]
    }
   ],
   "source": []
  },
  {
   "cell_type": "code",
   "execution_count": 37,
   "metadata": {},
   "outputs": [],
   "source": [
    "def put_it_in(x,y,r,xList,yList,rList):\n",
    "    xList.append(x)\n",
    "    yList.append(y)\n",
    "    rList.append(r)\n",
    "    Area+=np.pi*r**2\n",
    "    #print (Area)\n",
    "    #note_it(XList,YList,RList,Area)\n"
   ]
  },
  {
   "cell_type": "code",
   "execution_count": 83,
   "metadata": {},
   "outputs": [],
   "source": [
    "#initials\n",
    "x_min=y_min=0;x_max=y_max=1\n",
    "r=0.05\n",
    "init_pos_i=0.05\n",
    "init_pos_j=np.random.uniform(0.05,0.95)\n",
    "Area=np.pi*\n"
   ]
  },
  {
   "cell_type": "code",
   "execution_count": 84,
   "metadata": {},
   "outputs": [],
   "source": [
    "def generate_centers():\n",
    "    pos_i=np.random.uniform(0.05,0.95)\n",
    "    pos_j=np.random.uniform(0.05,0.95)\n",
    "    \n",
    "    for m,n in zip(center_exist_x,center_exist_y):\n",
    "        if (pos_i==m) & (pos_j==n):\n",
    "            generate_centers()\n",
    "    print(pos_i,pos_j)\n",
    "    return(pos_i,pos_j)"
   ]
  },
  {
   "cell_type": "code",
   "execution_count": 85,
   "metadata": {},
   "outputs": [
    {
     "name": "stdout",
     "output_type": "stream",
     "text": [
      "0.6877132928759213 0.9334674478334377\n"
     ]
    }
   ],
   "source": [
    "i,j=generate_centers()"
   ]
  },
  {
   "cell_type": "code",
   "execution_count": 80,
   "metadata": {},
   "outputs": [],
   "source": [
    "a=check_avail(i,j,center_exist_x,center_exist_y)\n",
    "if (a==True):\n",
    "    go_lower(i,j,center_exist_x,center_exist_y)"
   ]
  },
  {
   "cell_type": "code",
   "execution_count": 236,
   "metadata": {},
   "outputs": [],
   "source": [
    "\n",
    "def check_avail(i,j,center_exist_x,center_exist_y):\n",
    "    ok=True\n",
    "    if(Area>55):\n",
    "        num=center_exist_x.size()+1\n",
    "        print(\"done with\", num, \"number of circles\")\n",
    "        return False\n",
    "    \n",
    "    else:\n",
    "        print(\"checking for position\")\n",
    "        z=check_space(i,j,center_exist_x,center_exist_y)\n",
    "        if (z==True):\n",
    "            print(\"checking to go lower\")\n",
    "        \n",
    "        \n",
    "       \n",
    "            "
   ]
  },
  {
   "cell_type": "code",
   "execution_count": null,
   "metadata": {},
   "outputs": [],
   "source": [
    "def check_space(i,j,center_exist_x,center_exist_y):\n",
    "    ok=False\n",
    "    while(ok==False):\n",
    "        for m,n in zip(center_exist_x,center_exist_y):\n",
    "                d=np.sqrt((n-i)**2+(m-j)**2)\n",
    "                if (d/2<0.05):\n",
    "                    i,j=generate_centers()\n",
    "                else:\n",
    "                    ok=True\n",
    "        \n",
    "    check_lower(i,j,center_exist_x,center_exist_y)\n",
    "    return (ok)\n",
    "    "
   ]
  },
  {
   "cell_type": "code",
   "execution_count": 87,
   "metadata": {},
   "outputs": [],
   "source": [
    "def check_lower(i,j,center_exist_x,center_exist_y):\n",
    "    \n",
    "    while(j>=0.05) & (check_avail(i,j,center_exist_x,center_exist_y)==True):\n",
    "        j=j-0.01\n",
    "    if (j==0.05):\n",
    "        put_it_in(i,j)\n",
    "    else:\n",
    "        roll_down(i,j,center_exist_x,center_exist_y)\n",
    "    \n",
    "    "
   ]
  },
  {
   "cell_type": "code",
   "execution_count": null,
   "metadata": {},
   "outputs": [],
   "source": [
    "def roll_down(i,j,center_exist_x,center_exist_y):\n",
    "    \n",
    "min_value = min(a_list)\n",
    "Find the minimum value of `a_list`\n",
    "\n",
    "\n",
    "min_index = a_list.index(min_value)\n",
    "Find the index of the minimum value\n",
    "\n",
    "print(min_index)\n",
    "    "
   ]
  },
  {
   "cell_type": "code",
   "execution_count": 45,
   "metadata": {},
   "outputs": [],
   "source": [
    "def put_it_in(i,j):\n",
    "    center_exist_x=center_exist_x.append(i)\n",
    "    center_exist_y=center_exist_y.append(j)\n",
    "    Area=Area+1\n",
    "    print (Area)\n"
   ]
  },
  {
   "cell_type": "code",
   "execution_count": 50,
   "metadata": {},
   "outputs": [
    {
     "name": "stdout",
     "output_type": "stream",
     "text": [
      "0.4248002715686958 0.6491174798150742\n"
     ]
    },
    {
     "data": {
      "text/plain": [
       "(0.4248002715686958, 0.6491174798150742)"
      ]
     },
     "execution_count": 50,
     "metadata": {},
     "output_type": "execute_result"
    }
   ],
   "source": [
    "generate_centers()"
   ]
  },
  {
   "cell_type": "code",
   "execution_count": 96,
   "metadata": {},
   "outputs": [
    {
     "data": {
      "text/plain": [
       "<matplotlib.patches.Circle at 0x7fe4cae68d30>"
      ]
     },
     "execution_count": 96,
     "metadata": {},
     "output_type": "execute_result"
    },
    {
     "data": {
      "image/png": "[encoded data removed]",
      "text/plain": [
       "<Figure size 432x288 with 1 Axes>"
      ]
     },
     "metadata": {
      "needs_background": "light"
     },
     "output_type": "display_data"
    }
   ],
   "source": [
    "import matplotlib.pyplot as plt\n",
    "fig, ax = plt.subplots()\n",
    "ax.axis('equal')\n",
    "ax.set(xlim=(0, 1), ylim = (0, 1))\n",
    "\n",
    "a_circle = plt.Circle((0.5, 0.5), 0.1)\n",
    "ax.add_artist(a_circle)\n",
    "a_circle = plt.Circle((0.5, 0.5), 0.1)\n",
    "ax.add_artist(a_circle)"
   ]
  },
  {
   "cell_type": "code",
   "execution_count": 70,
   "metadata": {},
   "outputs": [
    {
     "data": {
      "image/png": "[encoded data removed]",
      "text/plain": [
       "<Figure size 432x288 with 1 Axes>"
      ]
     },
     "metadata": {
      "needs_background": "light"
     },
     "output_type": "display_data"
    }
   ],
   "source": [
    "#plotting different circles in a box\n",
    "xList=[0.2,0.4,0.6]\n",
    "yList=[0.7,0.3,0.5]\n",
    "rList=[0.05,0.06,0.01]\n",
    "fig, ax = plt.subplots()\n",
    "ax.axis('equal')\n",
    "ax.set(xlim=(0, 1), ylim = (0, 1))\n",
    "for i in range(len(xList)):\n",
    "    circle1 = plt.Circle((xList[i], yList[i]), rList[i], color = 'r')\n",
    "    ax.add_artist(circle1)\n",
    "plt.show()"
   ]
  },
  {
   "cell_type": "code",
   "execution_count": 239,
   "metadata": {},
   "outputs": [
    {
     "name": "stdout",
     "output_type": "stream",
     "text": [
      "0\n"
     ]
    }
   ],
   "source": [
    "x=[]\n",
    "\n",
    "print (len(x))"
   ]
  },
  {
   "cell_type": "code",
   "execution_count": 18,
   "metadata": {},
   "outputs": [
    {
     "ename": "AttributeError",
     "evalue": "'function' object has no attribute 'x'",
     "output_type": "error",
     "traceback": [
      "\u001b[0;31m---------------------------------------------------------------------------\u001b[0m",
      "\u001b[0;31mAttributeError\u001b[0m                            Traceback (most recent call last)",
      "\u001b[0;32m<ipython-input-18-4fbe8dfd5f39>\u001b[0m in \u001b[0;36m<module>\u001b[0;34m\u001b[0m\n\u001b[0;32m----> 1\u001b[0;31m \u001b[0mgenerate_circle\u001b[0m\u001b[0;34m.\u001b[0m\u001b[0mx\u001b[0m\u001b[0;34m(\u001b[0m\u001b[0;34m)\u001b[0m\u001b[0;34m\u001b[0m\u001b[0;34m\u001b[0m\u001b[0m\n\u001b[0m",
      "\u001b[0;31mAttributeError\u001b[0m: 'function' object has no attribute 'x'"
     ]
    }
   ],
   "source": [
    "generate_circle.x()"
   ]
  },
  {
   "cell_type": "code",
   "execution_count": null,
   "metadata": {},
   "outputs": [],
   "source": []
  }
 ],
 "metadata": {
  "kernelspec": {
   "display_name": "Python 3",
   "language": "python",
   "name": "python3"
  },
  "language_info": {
   "codemirror_mode": {
    "name": "ipython",
    "version": 3
   },
   "file_extension": ".py",
   "mimetype": "text/x-python",
   "name": "python",
   "nbconvert_exporter": "python",
   "pygments_lexer": "ipython3",
   "version": "3.8.5"
  }
 },
 "nbformat": 4,
 "nbformat_minor": 4
}
